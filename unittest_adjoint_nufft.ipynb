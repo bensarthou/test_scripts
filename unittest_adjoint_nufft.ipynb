{
 "cells": [
  {
   "cell_type": "code",
   "execution_count": 1,
   "metadata": {},
   "outputs": [
    {
     "name": "stderr",
     "output_type": "stream",
     "text": [
      "/home/bs255482/.local/lib/python3.5/site-packages/h5py/__init__.py:36: FutureWarning: Conversion of the second argument of issubdtype from `float` to `np.floating` is deprecated. In future, it will be treated as `np.float64 == np.dtype(float).type`.\n",
      "  from ._conv import register_converters as _register_converters\n"
     ]
    },
    {
     "name": "stdout",
     "output_type": "stream",
     "text": [
      "\n",
      "                 .|'''|       /.\\      '||'''|,\n",
      "                 ||          // \\\\      ||   ||\n",
      "'||''|, '||  ||` `|'''|,    //...\\\\     ||...|'\n",
      " ||  ||  `|..||   .   ||   //     \\\\    ||\n",
      " ||..|'      ||   |...|' .//       \\\\. .||\n",
      " ||       ,  |'\n",
      ".||        ''\n",
      "\n",
      "Package version: 0.0.3\n",
      "\n",
      "License: CeCILL-B\n",
      "\n",
      "Authors: \n",
      "\n",
      "Antoine Grigis <antoine.grigis@cea.fr>\n",
      "Samuel Farrens <samuel.farrens@gmail.com>\n",
      "Jean-Luc Starck <jl.stark@cea.fr>\n",
      "Philippe Ciuciu <philippe.ciuciu@cea.fr>\n",
      "\n",
      "Dependencies: \n",
      "\n",
      "nibabel        : >=2.1.0   - required | 2.2.1     installed\n",
      "matplotlib     : >=2.1.2   - required | 2.2.2     installed\n",
      "modopt         : >=1.1.4   - required | 1.1.5     installed\n",
      "numpy          : >=1.11.0  - required | 1.14.5    installed\n",
      "scipy          : >=1.0.0   - required | 1.1.0     installed\n",
      "future         : >=0.16.0  - required | 0.16.0    installed\n",
      "pysparse       : >=0.0.1   - required | 0.0.1     installed\n",
      "pyqtgraph      : >=0.10.0  - required | 0.10.0    installed\n",
      "progressbar    : >=3.34.3  - required | 3.37.1    installed\n",
      "astropy        : ==2.0.4   - required | 2.0.4     installed\n",
      "\n"
     ]
    },
    {
     "name": "stderr",
     "output_type": "stream",
     "text": [
      "\u001b[33mWARNING\u001b[0m: Using pyFFTW \"monkey patch\" for scipy.fftpack\n"
     ]
    }
   ],
   "source": [
    "from pysap.plugins.mri.reconstruct_3D.fourier import NUFFT, NFFT3, FFT3\n",
    "import numpy as np\n",
    "from pysap.plugins.mri.reconstruct_3D.utils import convert_mask_to_locations_3D"
   ]
  },
  {
   "cell_type": "code",
   "execution_count": 2,
   "metadata": {},
   "outputs": [
    {
     "name": "stdout",
     "output_type": "stream",
     "text": [
      "(64, 64, 64)\n"
     ]
    }
   ],
   "source": [
    "_mask = np.random.randint(2, size=(64,64,64))\n",
    "_samples = convert_mask_to_locations_3D(_mask)\n",
    "_samples_shift = convert_mask_to_locations_3D(np.fft.fftshift(_mask))\n",
    "image = np.load('/volatile/bsarthou/datas/NUFFT/mri_img_2D.npy')\n",
    "image = image[64:128, 64:128]\n",
    "images = np.tile(image, (64,1,1))\n",
    "_kspace = np.random.randn(len(_samples)) + 1j * np.random.randn(len(_samples))\n",
    "print(images.shape)"
   ]
  },
  {
   "cell_type": "code",
   "execution_count": 3,
   "metadata": {},
   "outputs": [],
   "source": [
    "def project_on_grid(kspace, mask):\n",
    "    kspace_reshaped = np.zeros(mask.shape, dtype=kspace.dtype)\n",
    "    axis_x, axis_y, axis_z = np.where(mask == 1)\n",
    "    kspace_reshaped[axis_x, axis_y, axis_z] = kspace\n",
    "    return kspace_reshaped"
   ]
  },
  {
   "cell_type": "code",
   "execution_count": 4,
   "metadata": {},
   "outputs": [],
   "source": [
    "_kspace_gridded = project_on_grid(_kspace, np.fft.fftshift(_mask))"
   ]
  },
  {
   "cell_type": "code",
   "execution_count": 5,
   "metadata": {},
   "outputs": [
    {
     "name": "stdout",
     "output_type": "stream",
     "text": [
      "Creating the NUFFT object...\n"
     ]
    }
   ],
   "source": [
    "fourier_op_dir_nufft = NUFFT(samples=_samples, platform='cpu', shape=(64,64,64), Kd=64, Jd=3)\n",
    "fourier_op_dir_nfft = NFFT3(samples=_samples, shape=(64,64,64))\n",
    "fourier_op_dir_fft = FFT3(samples=_samples_shift, shape=(64,64,64))"
   ]
  },
  {
   "cell_type": "code",
   "execution_count": 6,
   "metadata": {},
   "outputs": [
    {
     "name": "stdout",
     "output_type": "stream",
     "text": [
      "Creating the NUFFT object...\n"
     ]
    }
   ],
   "source": [
    "fourier_op_adj_nufft = NUFFT(samples=_samples, platform='cpu', shape=(64,64,64), Kd=64, Jd=3)\n",
    "fourier_op_adj_nfft = NFFT3(samples=_samples, shape=(64,64,64))\n",
    "fourier_op_adj_fft = FFT3(samples=_samples_shift, shape=(64,64,64))"
   ]
  },
  {
   "cell_type": "code",
   "execution_count": 7,
   "metadata": {},
   "outputs": [],
   "source": [
    "kspace_nfft = fourier_op_dir_nfft.op(images)\n",
    "kspace_nufft = fourier_op_dir_nufft.op(images)\n",
    "kspace_fft = fourier_op_dir_fft.op(images)\n",
    "# kspace_fft = kspace_fft.flatten()/np.sqrt(64*64*64)"
   ]
  },
  {
   "cell_type": "code",
   "execution_count": 8,
   "metadata": {},
   "outputs": [
    {
     "name": "stdout",
     "output_type": "stream",
     "text": [
      "(130928,)\n",
      "(130928,)\n",
      "(64, 64, 64)\n"
     ]
    }
   ],
   "source": [
    "print(kspace_nufft.shape)\n",
    "print(kspace_nfft.shape)\n",
    "print(kspace_fft.shape)"
   ]
  },
  {
   "cell_type": "code",
   "execution_count": 9,
   "metadata": {},
   "outputs": [],
   "source": [
    "img_nfft = fourier_op_adj_nfft.adj_op(_kspace)\n",
    "img_nufft = fourier_op_adj_nufft.adj_op(_kspace)\n",
    "img_fft = fourier_op_adj_fft.adj_op(_kspace_gridded)"
   ]
  },
  {
   "cell_type": "markdown",
   "metadata": {},
   "source": [
    "### Check the adjoint relation"
   ]
  },
  {
   "cell_type": "code",
   "execution_count": 10,
   "metadata": {},
   "outputs": [],
   "source": [
    "rslt_1_nfft = np.dot(kspace_nfft, np.conj(_kspace))\n",
    "rslt_2_nfft = np.dot(images.flatten(), np.conj(img_nfft.flatten()))\n",
    "rslt_1_nufft = np.dot(kspace_nufft, np.conj(_kspace))\n",
    "rslt_2_nufft = np.dot(images.flatten(), np.conj(img_nufft).flatten())"
   ]
  },
  {
   "cell_type": "code",
   "execution_count": 11,
   "metadata": {},
   "outputs": [],
   "source": [
    "rslt_1_fft = np.dot(kspace_fft.flatten(), np.conj(_kspace_gridded.flatten()))\n",
    "rslt_2_fft = np.dot(images.flatten(), np.conj(img_fft.flatten()))"
   ]
  },
  {
   "cell_type": "code",
   "execution_count": 12,
   "metadata": {},
   "outputs": [
    {
     "name": "stdout",
     "output_type": "stream",
     "text": [
      "(0.999999999999951+5.1565958756268535e-15j)\n",
      "(262144.0016518826+0.0014689325528945147j)\n",
      "(1.0000000000000195-9.696153813185675e-15j)\n"
     ]
    }
   ],
   "source": [
    "print(rslt_1_nfft/rslt_2_nfft)\n",
    "print((rslt_1_nufft/rslt_2_nufft))\n",
    "print(rslt_1_fft / rslt_2_fft)"
   ]
  }
 ],
 "metadata": {
  "kernelspec": {
   "display_name": "Python 3",
   "language": "python",
   "name": "python3"
  },
  "language_info": {
   "codemirror_mode": {
    "name": "ipython",
    "version": 3
   },
   "file_extension": ".py",
   "mimetype": "text/x-python",
   "name": "python",
   "nbconvert_exporter": "python",
   "pygments_lexer": "ipython3",
   "version": "3.5.2"
  }
 },
 "nbformat": 4,
 "nbformat_minor": 2
}
