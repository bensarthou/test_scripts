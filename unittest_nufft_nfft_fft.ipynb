{
 "cells": [
  {
   "cell_type": "code",
   "execution_count": 1,
   "metadata": {},
   "outputs": [
    {
     "name": "stderr",
     "output_type": "stream",
     "text": [
      "/home/bs255482/.local/lib/python3.5/site-packages/h5py/__init__.py:36: FutureWarning: Conversion of the second argument of issubdtype from `float` to `np.floating` is deprecated. In future, it will be treated as `np.float64 == np.dtype(float).type`.\n",
      "  from ._conv import register_converters as _register_converters\n",
      "\u001b[33mWARNING\u001b[0m: Using pyFFTW \"monkey patch\" for scipy.fftpack\n"
     ]
    },
    {
     "name": "stdout",
     "output_type": "stream",
     "text": [
      "\n",
      "                 .|'''|       /.\\      '||'''|,\n",
      "                 ||          // \\\\      ||   ||\n",
      "'||''|, '||  ||` `|'''|,    //...\\\\     ||...|'\n",
      " ||  ||  `|..||   .   ||   //     \\\\    ||\n",
      " ||..|'      ||   |...|' .//       \\\\. .||\n",
      " ||       ,  |'\n",
      ".||        ''\n",
      "\n",
      "Package version: 0.0.3\n",
      "\n",
      "License: CeCILL-B\n",
      "\n",
      "Authors: \n",
      "\n",
      "Antoine Grigis <antoine.grigis@cea.fr>\n",
      "Samuel Farrens <samuel.farrens@gmail.com>\n",
      "Jean-Luc Starck <jl.stark@cea.fr>\n",
      "Philippe Ciuciu <philippe.ciuciu@cea.fr>\n",
      "\n",
      "Dependencies: \n",
      "\n",
      "future         : >=0.16.0  - required | 0.16.0    installed\n",
      "matplotlib     : >=2.1.2   - required | 2.2.2     installed\n",
      "modopt         : >=1.1.4   - required | 1.1.5     installed\n",
      "scipy          : >=1.0.0   - required | 1.1.0     installed\n",
      "pysparse       : >=0.0.1   - required | 0.0.1     installed\n",
      "nibabel        : >=2.1.0   - required | 2.2.1     installed\n",
      "progressbar    : >=3.34.3  - required | 3.37.1    installed\n",
      "numpy          : >=1.11.0  - required | 1.14.5    installed\n",
      "astropy        : ==2.0.4   - required | 2.0.4     installed\n",
      "pyqtgraph      : >=0.10.0  - required | 0.10.0    installed\n",
      "\n"
     ]
    }
   ],
   "source": [
    "from pysap.plugins.mri.reconstruct_3D.fourier import NUFFT, NFFT3, FFT3\n",
    "import numpy as np\n",
    "from pysap.plugins.mri.reconstruct_3D.utils import convert_mask_to_locations_3D"
   ]
  },
  {
   "cell_type": "code",
   "execution_count": 2,
   "metadata": {},
   "outputs": [],
   "source": [
    "_mask = np.ones(np.random.randint(2, size=(64,64,64)).shape)\n",
    "_samples = convert_mask_to_locations_3D(_mask)\n",
    "_samples_shift = convert_mask_to_locations_3D(np.fft.fftshift(_mask))\n",
    "image = np.load('/volatile/bsarthou/datas/NUFFT/mri_img_2D.npy')\n",
    "image = image[64:128, 64:128]\n",
    "images = np.tile(image, (64,1,1))"
   ]
  },
  {
   "cell_type": "code",
   "execution_count": 3,
   "metadata": {},
   "outputs": [
    {
     "name": "stdout",
     "output_type": "stream",
     "text": [
      "Creating the NUFFT object...\n"
     ]
    }
   ],
   "source": [
    "fourier_op_dir_nufft = NUFFT(samples=_samples, platform='cpu', shape=(64,64,64), Kd=64, Jd=3)\n",
    "fourier_op_dir_nfft = NFFT3(samples=_samples, shape=(64,64,64))"
   ]
  },
  {
   "cell_type": "code",
   "execution_count": 4,
   "metadata": {},
   "outputs": [],
   "source": [
    "fourier_op_dir_fft = FFT3(samples=_samples_shift, shape=(64,64,64))"
   ]
  },
  {
   "cell_type": "code",
   "execution_count": 5,
   "metadata": {},
   "outputs": [],
   "source": [
    "kspace_nfft = fourier_op_dir_nfft.op(images)# *(1./np.sqrt(64*64*64))\n",
    "kspace_nufft = fourier_op_dir_nufft.op(images)\n",
    "kspace_fft = np.fft.ifftshift(fourier_op_dir_fft.op(np.fft.fftshift(images)))\n",
    "kspace_fft_nufft = np.fft.ifftshift(fourier_op_dir_fft.op(images))\n",
    "kspace_fft_nufft = kspace_fft_nufft.flatten()\n",
    "kspace_fft = kspace_fft.flatten()# /np.sqrt(64*64*64)"
   ]
  },
  {
   "cell_type": "code",
   "execution_count": 6,
   "metadata": {},
   "outputs": [
    {
     "name": "stdout",
     "output_type": "stream",
     "text": [
      "(262144,)\n",
      "(262144,)\n",
      "(262144,)\n",
      "(4096,)\n",
      "(-0.19814793606113285-2.213507155346406e-15j) (-0.19558823529411695+0j)\n",
      "(-0.10316949060834013+0.305532442488714j) (0.1206313399126418-0.35447571844393605j)\n",
      "(0.12787981700061046-0.10962965649367361j) (0.14082723392854796-0.15084759340651127j)\n",
      "(0.09202956949031223-0.19575987856338847j) (-0.09106783514676649+0.21863053196877424j)\n",
      "(-0.085759400649997+0.06355882973664424j) (-0.14188808675258002+0.021792247221910838j)\n",
      "(-0.32914463504937425+0.47154183072181016j) (0.3573332710372344-0.49711576792614465j)\n",
      "(-0.06454440208141332-0.009663464840821763j) (-0.04537242519650059-0.026903688135865328j)\n",
      "(-0.14350287188102878+0.057336625819066595j) (0.1745657311452199-0.05361611550065737j)\n",
      "(-0.33098849006515435+0.21905178187845797j) (-0.36614235857085736+0.20885166431697594j)\n",
      "(-0.027678307159942777+0.1412002791646825j) (-0.04210494805545234-0.1376460881080407j)\n",
      "(0.16536628961802588+0.15068675113409355j) (0.14143037510613965+0.1522039240602649j)\n",
      "(0.23019598459162738-0.1122057494057593j) (-0.23279062092829855+0.15250093426198558j)\n",
      "(0.10387591592237351+0.29286869230895046j) (0.09120238557972438+0.30204838118251426j)\n",
      "(0.06325341920517305+0.21997989538486623j) (-0.10803092353915114-0.22467988212373896j)\n",
      "(0.00807866194910303+0.00034228731883976377j) (0.04269377502679007-0.05959770743532916j)\n",
      "(-0.07213007757432326+0.13581511038689043j) (0.08152842656424583-0.15306443676200537j)\n",
      "(0.35253554382783986+0.414423596612845j) (0.3323529411764705+0.4563725490196079j)\n"
     ]
    }
   ],
   "source": [
    "print(kspace_nufft.shape)\n",
    "print(kspace_nfft.shape)\n",
    "print(kspace_fft.shape)\n",
    "idx = np.where(np.abs(kspace_fft) != 0)\n",
    "print(idx[0].shape)\n",
    "for xk in range(17):\n",
    "    print(kspace_nufft[idx[0][xk]], kspace_fft_nufft[idx[0][xk]])"
   ]
  },
  {
   "cell_type": "code",
   "execution_count": 7,
   "metadata": {},
   "outputs": [
    {
     "name": "stdout",
     "output_type": "stream",
     "text": [
      "4.6721986303959946e-08\n",
      "4.6721986303962275e-08\n",
      "3.140976778750038e-34\n",
      "4.6721986303962275e-08\n"
     ]
    }
   ],
   "source": [
    "from modopt.math.metrics import mse\n",
    "\n",
    "print(mse(kspace_nufft, kspace_nfft))\n",
    "print(mse(kspace_nufft, kspace_fft))\n",
    "print(mse(kspace_nfft, kspace_fft))\n",
    "print(mse(kspace_nufft, kspace_fft_nufft))"
   ]
  },
  {
   "cell_type": "code",
   "execution_count": 8,
   "metadata": {},
   "outputs": [
    {
     "data": {
      "text/plain": [
       "[<matplotlib.lines.Line2D at 0x7f35316cf390>]"
      ]
     },
     "execution_count": 8,
     "metadata": {},
     "output_type": "execute_result"
    },
    {
     "data": {
      "image/png": "[encoded data removed]",
      "text/plain": [
       "<Figure size 432x288 with 3 Axes>"
      ]
     },
     "metadata": {},
     "output_type": "display_data"
    }
   ],
   "source": [
    "import matplotlib.pyplot as plt\n",
    "plt.subplot(311)\n",
    "plt.plot(np.abs(kspace_nufft))\n",
    "plt.subplot(312)\n",
    "plt.plot(np.abs(kspace_nfft))\n",
    "plt.subplot(313)\n",
    "plt.plot(np.abs(kspace_fft))"
   ]
  },
  {
   "cell_type": "code",
   "execution_count": 9,
   "metadata": {},
   "outputs": [
    {
     "data": {
      "text/plain": [
       "[<matplotlib.lines.Line2D at 0x7f3531604518>]"
      ]
     },
     "execution_count": 9,
     "metadata": {},
     "output_type": "execute_result"
    },
    {
     "data": {
      "image/png": "[encoded data removed]",
      "text/plain": [
       "<Figure size 432x288 with 1 Axes>"
      ]
     },
     "metadata": {},
     "output_type": "display_data"
    },
    {
     "data": {
      "image/png": "[encoded data removed]",
      "text/plain": [
       "<Figure size 432x288 with 2 Axes>"
      ]
     },
     "metadata": {},
     "output_type": "display_data"
    },
    {
     "data": {
      "image/png": "[encoded data removed]",
      "text/plain": [
       "<Figure size 432x288 with 4 Axes>"
      ]
     },
     "metadata": {},
     "output_type": "display_data"
    }
   ],
   "source": [
    "plt.figure()\n",
    "plt.plot(np.abs(kspace_nfft - kspace_fft))\n",
    "\n",
    "plt.figure()\n",
    "plt.subplot(211)\n",
    "plt.plot(np.abs(kspace_nufft - kspace_fft_nufft))\n",
    "plt.subplot(212)\n",
    "plt.plot(np.abs(kspace_nufft - kspace_fft))\n",
    "\n",
    "plt.figure()\n",
    "plt.subplot(221)\n",
    "plt.plot(np.real(kspace_nufft - kspace_fft_nufft))\n",
    "plt.subplot(222)\n",
    "plt.plot(np.imag(kspace_nufft - kspace_fft_nufft))\n",
    "plt.subplot(223)\n",
    "plt.plot(np.real(kspace_nufft - kspace_fft))\n",
    "plt.subplot(224)\n",
    "plt.plot(np.imag(kspace_nufft - kspace_fft))\n"
   ]
  },
  {
   "cell_type": "code",
   "execution_count": null,
   "metadata": {},
   "outputs": [],
   "source": [
    "f, (ax1, ax2, ax3) = plt.subplots(1, 3, sharey=True)\n",
    "ax1.set_title('FFT vs. NFFT:\\n l2={:4E}'.format(mse(kspace_fft, kspace_nfft)))\n",
    "ax1.set_xlabel('Nb samples')\n",
    "ax1.set_ylabel('Amplitude')\n",
    "ax1.plot(np.abs(kspace_nfft - kspace_fft))\n",
    "\n",
    "ax2.set_title('NFFT vs. NUFFT:\\n l2={:4E}'.format(mse(kspace_nfft, kspace_nufft)))\n",
    "ax2.set_xlabel('Nb samples')\n",
    "ax2.set_ylabel('Amplitude')\n",
    "ax2.plot(np.abs(kspace_nfft - kspace_nufft))\n",
    "\n",
    "ax3.set_title('FFT vs. NUFFT:\\n l2={:4E}'.format(mse(kspace_fft, kspace_nufft)))\n",
    "ax3.set_xlabel('Nb samples')\n",
    "ax3.set_ylabel('Amplitude')\n",
    "plt.plot(np.abs(kspace_fft - kspace_nufft))\n",
    "plt.tight_layout()"
   ]
  },
  {
   "cell_type": "code",
   "execution_count": null,
   "metadata": {},
   "outputs": [],
   "source": [
    "non_z = np.nonzero(kspace_fft)\n",
    "print(kspace_fft[non_z])\n",
    "print(kspace_nfft[non_z])\n",
    "print(kspace_nufft[non_z])"
   ]
  },
  {
   "cell_type": "code",
   "execution_count": null,
   "metadata": {},
   "outputs": [],
   "source": [
    "kspace_input = np.copy(kspace_nfft)\n",
    "fourier_op_adj_nufft = NUFFT(samples=_samples, platform='cpu', shape=(64,64,64), Kd=64, Jd=1)\n",
    "fourier_op_adj_nfft = NFFT3(samples=_samples, shape=(64,64,64))\n",
    "fourier_op_adj_fft = FFT3(samples=_samples_shift, shape=(64,64,64))\n"
   ]
  },
  {
   "cell_type": "code",
   "execution_count": null,
   "metadata": {},
   "outputs": [],
   "source": [
    "img_nfft = fourier_op_adj_nfft.adj_op(kspace_input)\n",
    "img_nufft = fourier_op_adj_nufft.adj_op(kspace_input)\n",
    "#kspace_fft = kspace_fft.flatten()/np.sqrt(64*64*64)\n",
    "kspace_input_fft = np.reshape(kspace_input, (64,64,64))\n",
    "img_fft = np.fft.fftshift(fourier_op_adj_fft.adj_op(np.fft.ifftshift(kspace_input_fft)))"
   ]
  },
  {
   "cell_type": "code",
   "execution_count": null,
   "metadata": {},
   "outputs": [],
   "source": [
    "print(mse(img_nufft, img_nfft))\n",
    "print(mse(img_nufft, img_fft))\n",
    "print(mse(img_nfft, img_fft))"
   ]
  },
  {
   "cell_type": "code",
   "execution_count": null,
   "metadata": {},
   "outputs": [],
   "source": [
    "plt.figure()\n",
    "plt.subplot(121)\n",
    "plt.imshow(np.abs(img_nfft[:,:,10]),cmap = 'gray')\n",
    "plt.subplot(122)\n",
    "plt.imshow(np.abs(img_fft[:,:,10]), cmap='gray')"
   ]
  },
  {
   "cell_type": "code",
   "execution_count": null,
   "metadata": {},
   "outputs": [],
   "source": [
    "_min, _max = np.min(np.abs(np.abs(img_nfft[:,:,10]) - np.abs(img_nufft[:,:,10]))), np.max(np.abs(np.abs(img_nfft[:,:,10]) - np.abs(img_nufft[:,:,10])))\n",
    "\n",
    "f, (ax1, ax2, ax3) = plt.subplots(1, 3)\n",
    "ax1.set_title('FFT vs. NFFT:\\n l2={:4E}'.format(mse(np.abs(img_fft[:,:,10]), np.abs(img_nfft[:,:,10]))))\n",
    "ax1.set_xlabel('Nb samples')\n",
    "ax1.set_ylabel('Amplitude')\n",
    "ax1.imshow(np.abs(np.abs(img_nfft[:,:,10]) - np.abs(img_fft[:,:,10])), vmin=_min, vmax=_max)\n",
    "\n",
    "ax2.set_title('NFFT vs. NUFFT:\\n l2={:4E}'.format(mse(np.abs(img_nfft[:,:,10]), np.abs(img_nufft[:,:,10]))))\n",
    "ax2.set_xlabel('Nb samples')\n",
    "ax2.set_ylabel('Amplitude')\n",
    "ax2.imshow(np.abs(np.abs(img_nfft[:,:,10]) - np.abs(img_nufft[:,:,10])), vmin=_min, vmax=_max)\n",
    "\n",
    "ax3.set_title('FFT vs. NUFFT:\\n l2={:4E}'.format(mse(np.abs(img_fft[:,:,10]), np.abs(img_nufft[:,:,10]))))\n",
    "ax3.set_xlabel('Nb samples')\n",
    "ax3.set_ylabel('Amplitude')\n",
    "plt.imshow(np.abs(np.abs(img_nfft[:,:,10]) - np.abs(img_nufft[:,:,10])), vmin=_min, vmax=_max)\n",
    "plt.tight_layout()\n",
    "plt.show()"
   ]
  }
 ],
 "metadata": {
  "kernelspec": {
   "display_name": "Python 3",
   "language": "python",
   "name": "python3"
  },
  "language_info": {
   "codemirror_mode": {
    "name": "ipython",
    "version": 3
   },
   "file_extension": ".py",
   "mimetype": "text/x-python",
   "name": "python",
   "nbconvert_exporter": "python",
   "pygments_lexer": "ipython3",
   "version": "3.5.2"
  }
 },
 "nbformat": 4,
 "nbformat_minor": 2
}
