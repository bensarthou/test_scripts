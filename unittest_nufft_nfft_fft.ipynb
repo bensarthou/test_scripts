{
 "cells": [
  {
   "cell_type": "code",
   "execution_count": 1,
   "metadata": {},
   "outputs": [
    {
     "name": "stderr",
     "output_type": "stream",
     "text": [
      "/home/bs255482/.local/lib/python3.5/site-packages/h5py/__init__.py:36: FutureWarning: Conversion of the second argument of issubdtype from `float` to `np.floating` is deprecated. In future, it will be treated as `np.float64 == np.dtype(float).type`.\n",
      "  from ._conv import register_converters as _register_converters\n"
     ]
    },
    {
     "name": "stdout",
     "output_type": "stream",
     "text": [
      "\n",
      "                 .|'''|       /.\\      '||'''|,\n",
      "                 ||          // \\\\      ||   ||\n",
      "'||''|, '||  ||` `|'''|,    //...\\\\     ||...|'\n",
      " ||  ||  `|..||   .   ||   //     \\\\    ||\n",
      " ||..|'      ||   |...|' .//       \\\\. .||\n",
      " ||       ,  |'\n",
      ".||        ''\n",
      "\n",
      "Package version: 0.0.3\n",
      "\n",
      "License: CeCILL-B\n",
      "\n",
      "Authors: \n",
      "\n",
      "Antoine Grigis <antoine.grigis@cea.fr>\n",
      "Samuel Farrens <samuel.farrens@gmail.com>\n",
      "Jean-Luc Starck <jl.stark@cea.fr>\n",
      "Philippe Ciuciu <philippe.ciuciu@cea.fr>\n",
      "\n",
      "Dependencies: \n",
      "\n",
      "progressbar    : >=3.34.3  - required | 3.37.1    installed\n",
      "future         : >=0.16.0  - required | 0.16.0    installed\n",
      "astropy        : ==2.0.4   - required | 2.0.4     installed\n",
      "pysparse       : >=0.0.1   - required | 0.0.1     installed\n",
      "modopt         : >=1.1.4   - required | 1.1.5     installed\n",
      "numpy          : >=1.11.0  - required | 1.14.3    installed\n",
      "nibabel        : >=2.1.0   - required | 2.2.1     installed\n",
      "scipy          : >=1.0.0   - required | 1.1.0     installed\n",
      "pyqtgraph      : >=0.10.0  - required | 0.10.0    installed\n",
      "matplotlib     : >=2.1.2   - required | 2.2.2     installed\n",
      "\n"
     ]
    },
    {
     "name": "stderr",
     "output_type": "stream",
     "text": [
      "\u001b[33mWARNING\u001b[0m: Using pyFFTW \"monkey patch\" for scipy.fftpack\n"
     ]
    }
   ],
   "source": [
    "from pysap.plugins.mri.reconstruct_3D.fourier import NUFFT, NFFT3, FFT3\n",
    "import numpy as np\n",
    "from pysap.plugins.mri.reconstruct_3D.utils import convert_mask_to_locations_3D"
   ]
  },
  {
   "cell_type": "code",
   "execution_count": 2,
   "metadata": {},
   "outputs": [],
   "source": [
    "_mask = np.ones(np.random.randint(2, size=(64,64,64)).shape)\n",
    "_samples = convert_mask_to_locations_3D(_mask)\n",
    "_samples_shift = convert_mask_to_locations_3D(np.fft.fftshift(_mask))\n",
    "image = np.load('/volatile/bsarthou/datas/NUFFT/mri_img_2D.npy')\n",
    "image = image[64:128, 64:128]\n",
    "images = np.tile(image, (64,1,1))"
   ]
  },
  {
   "cell_type": "code",
   "execution_count": 3,
   "metadata": {},
   "outputs": [],
   "source": [
    "fourier_op_dir_nufft = NUFFT(samples=_samples, platform='cpu', shape=(64,64,64), Kd=64, Jd=1)\n",
    "fourier_op_dir_nfft = NFFT3(samples=_samples, shape=(64,64,64))"
   ]
  },
  {
   "cell_type": "code",
   "execution_count": 4,
   "metadata": {},
   "outputs": [],
   "source": [
    "fourier_op_dir_fft = FFT3(samples=_samples_shift, shape=(64,64,64))"
   ]
  },
  {
   "cell_type": "code",
   "execution_count": 5,
   "metadata": {},
   "outputs": [
    {
     "name": "stdout",
     "output_type": "stream",
     "text": [
      "(262144,)\n"
     ]
    }
   ],
   "source": [
    "kspace_nfft = fourier_op_dir_nfft.op(images)\n",
    "kspace_nufft = fourier_op_dir_nufft.op(images)\n",
    "kspace_fft = np.fft.ifftshift(fourier_op_dir_fft.op(np.fft.fftshift(images)))\n",
    "kspace_fft = kspace_fft.flatten()/np.sqrt(64*64*64)"
   ]
  },
  {
   "cell_type": "code",
   "execution_count": 6,
   "metadata": {},
   "outputs": [
    {
     "name": "stdout",
     "output_type": "stream",
     "text": [
      "(262144,)\n",
      "(262144,)\n",
      "(262144,)\n"
     ]
    }
   ],
   "source": [
    "print(kspace_nufft.shape)\n",
    "print(kspace_nfft.shape)\n",
    "print(kspace_fft.shape)"
   ]
  },
  {
   "cell_type": "code",
   "execution_count": 7,
   "metadata": {},
   "outputs": [
    {
     "name": "stdout",
     "output_type": "stream",
     "text": [
      "8.106368380727306e-22\n",
      "8.1063685067369915e-22\n",
      "3.140976778750038e-34\n"
     ]
    }
   ],
   "source": [
    "from modopt.math.metrics import mse\n",
    "\n",
    "print(mse(kspace_nufft, kspace_nfft))\n",
    "print(mse(kspace_nufft, kspace_fft))\n",
    "print(mse(kspace_nfft, kspace_fft))"
   ]
  },
  {
   "cell_type": "code",
   "execution_count": 8,
   "metadata": {},
   "outputs": [
    {
     "data": {
      "text/plain": [
       "[<matplotlib.lines.Line2D at 0x7fa9dbace0b8>]"
      ]
     },
     "execution_count": 8,
     "metadata": {},
     "output_type": "execute_result"
    },
    {
     "data": {
      "image/png": "[encoded data removed]",
      "text/plain": [
       "<Figure size 432x288 with 3 Axes>"
      ]
     },
     "metadata": {},
     "output_type": "display_data"
    }
   ],
   "source": [
    "import matplotlib.pyplot as plt\n",
    "plt.subplot(311)\n",
    "plt.plot(np.abs(kspace_nufft))\n",
    "plt.subplot(312)\n",
    "plt.plot(np.abs(kspace_nfft))\n",
    "plt.subplot(313)\n",
    "plt.plot(np.abs(kspace_fft))"
   ]
  },
  {
   "cell_type": "code",
   "execution_count": 9,
   "metadata": {},
   "outputs": [
    {
     "data": {
      "text/plain": [
       "[<matplotlib.lines.Line2D at 0x7fa9dba0a748>]"
      ]
     },
     "execution_count": 9,
     "metadata": {},
     "output_type": "execute_result"
    },
    {
     "data": {
      "image/png": "[encoded data removed]",
      "text/plain": [
       "<Figure size 432x288 with 1 Axes>"
      ]
     },
     "metadata": {},
     "output_type": "display_data"
    },
    {
     "data": {
      "image/png": "[encoded data removed]",
      "text/plain": [
       "<Figure size 432x288 with 1 Axes>"
      ]
     },
     "metadata": {},
     "output_type": "display_data"
    },
    {
     "data": {
      "image/png": "[encoded data removed]",
      "text/plain": [
       "<Figure size 432x288 with 1 Axes>"
      ]
     },
     "metadata": {},
     "output_type": "display_data"
    }
   ],
   "source": [
    "plt.figure()\n",
    "plt.plot(np.abs(kspace_nufft - kspace_nfft))\n",
    "plt.figure()\n",
    "plt.plot(np.abs(kspace_nfft - kspace_fft))\n",
    "plt.figure()\n",
    "plt.plot(np.abs(kspace_nufft - kspace_fft))"
   ]
  },
  {
   "cell_type": "code",
   "execution_count": 10,
   "metadata": {},
   "outputs": [
    {
     "name": "stdout",
     "output_type": "stream",
     "text": [
      "[-0.19558824+0.j         -0.12063134+0.35447572j  0.14082723-0.15084759j\n",
      " ... -0.34985852+0.46133301j  0.54347087-0.23776113j\n",
      " -0.00078517+0.02393312j]\n",
      "[-0.19558824-6.73059404e-17j -0.12063134+3.54475718e-01j\n",
      "  0.14082723-1.50847593e-01j ... -0.34985852+4.61333005e-01j\n",
      "  0.54347087-2.37761127e-01j -0.00078517+2.39331218e-02j]\n",
      "[-3.82008257e-04-2.99408121e-18j -2.35608167e-04+6.92335484e-04j\n",
      "  2.75053246e-04-2.94624168e-04j ... -6.83317522e-04+9.01041020e-04j\n",
      "  1.06146653e-03-4.64377196e-04j -1.53355068e-06+4.67442877e-05j]\n"
     ]
    }
   ],
   "source": [
    "non_z = np.nonzero(kspace_fft)\n",
    "print(kspace_fft[non_z])\n",
    "print(kspace_nfft[non_z])\n",
    "print(kspace_nufft[non_z])"
   ]
  },
  {
   "cell_type": "code",
   "execution_count": 11,
   "metadata": {},
   "outputs": [],
   "source": [
    "kspace_input = np.copy(kspace_nfft)\n",
    "fourier_op_adj_nufft = NUFFT(samples=_samples, platform='cpu', shape=(64,64,64), Kd=64, Jd=1)\n",
    "fourier_op_adj_nfft = NFFT3(samples=_samples, shape=(64,64,64))\n",
    "fourier_op_adj_fft = FFT3(samples=_samples_shift, shape=(64,64,64))\n"
   ]
  },
  {
   "cell_type": "code",
   "execution_count": 12,
   "metadata": {},
   "outputs": [],
   "source": [
    "img_nfft = fourier_op_adj_nfft.adj_op(kspace_input)\n",
    "img_nufft = fourier_op_adj_nufft.adj_op(kspace_input)\n",
    "#kspace_fft = kspace_fft.flatten()/np.sqrt(64*64*64)\n",
    "kspace_input_fft = np.reshape(kspace_input, (64,64,64))\n",
    "img_fft = np.fft.fftshift(fourier_op_adj_fft.adj_op(np.fft.ifftshift(kspace_input_fft)))\n",
    "\n",
    "\n"
   ]
  },
  {
   "cell_type": "code",
   "execution_count": 13,
   "metadata": {},
   "outputs": [
    {
     "name": "stdout",
     "output_type": "stream",
     "text": [
      "6.964774085545097e-17\n",
      "6.964777622837042e-17\n",
      "6.355639685372634e-29\n"
     ]
    }
   ],
   "source": [
    "print(mse(img_nufft, img_nfft))\n",
    "print(mse(img_nufft, img_fft))\n",
    "print(mse(img_nfft, img_fft))\n",
    "\n"
   ]
  },
  {
   "cell_type": "code",
   "execution_count": 14,
   "metadata": {},
   "outputs": [
    {
     "data": {
      "text/plain": [
       "<matplotlib.image.AxesImage at 0x7fa9cdda6828>"
      ]
     },
     "execution_count": 14,
     "metadata": {},
     "output_type": "execute_result"
    },
    {
     "data": {
      "image/png": "[encoded data removed]",
      "text/plain": [
       "<Figure size 432x288 with 2 Axes>"
      ]
     },
     "metadata": {},
     "output_type": "display_data"
    }
   ],
   "source": [
    "plt.figure()\n",
    "plt.subplot(121)\n",
    "plt.imshow(np.abs(img_nfft[:,:,10]),cmap = 'gray')\n",
    "plt.subplot(122)\n",
    "plt.imshow(np.abs(img_fft[:,:,10]), cmap='gray')"
   ]
  },
  {
   "cell_type": "code",
   "execution_count": null,
   "metadata": {},
   "outputs": [],
   "source": []
  }
 ],
 "metadata": {
  "kernelspec": {
   "display_name": "Python 3",
   "language": "python",
   "name": "python3"
  },
  "language_info": {
   "codemirror_mode": {
    "name": "ipython",
    "version": 3
   },
   "file_extension": ".py",
   "mimetype": "text/x-python",
   "name": "python",
   "nbconvert_exporter": "python",
   "pygments_lexer": "ipython3",
   "version": "3.5.2"
  }
 },
 "nbformat": 4,
 "nbformat_minor": 2
}
