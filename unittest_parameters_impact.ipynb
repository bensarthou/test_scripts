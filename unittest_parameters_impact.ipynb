{
 "cells": [
  {
   "cell_type": "code",
   "execution_count": 2,
   "metadata": {},
   "outputs": [
    {
     "name": "stderr",
     "output_type": "stream",
     "text": [
      "/home/bs255482/.local/lib/python3.5/site-packages/h5py/__init__.py:36: FutureWarning: Conversion of the second argument of issubdtype from `float` to `np.floating` is deprecated. In future, it will be treated as `np.float64 == np.dtype(float).type`.\n",
      "  from ._conv import register_converters as _register_converters\n",
      "\u001b[33mWARNING\u001b[0m: Using pyFFTW \"monkey patch\" for scipy.fftpack\n"
     ]
    },
    {
     "name": "stdout",
     "output_type": "stream",
     "text": [
      "\n",
      "                 .|'''|       /.\\      '||'''|,\n",
      "                 ||          // \\\\      ||   ||\n",
      "'||''|, '||  ||` `|'''|,    //...\\\\     ||...|'\n",
      " ||  ||  `|..||   .   ||   //     \\\\    ||\n",
      " ||..|'      ||   |...|' .//       \\\\. .||\n",
      " ||       ,  |'\n",
      ".||        ''\n",
      "\n",
      "Package version: 0.0.3\n",
      "\n",
      "License: CeCILL-B\n",
      "\n",
      "Authors: \n",
      "\n",
      "Antoine Grigis <antoine.grigis@cea.fr>\n",
      "Samuel Farrens <samuel.farrens@gmail.com>\n",
      "Jean-Luc Starck <jl.stark@cea.fr>\n",
      "Philippe Ciuciu <philippe.ciuciu@cea.fr>\n",
      "\n",
      "Dependencies: \n",
      "\n",
      "pysparse       : >=0.0.1   - required | 0.0.1     installed\n",
      "pyqtgraph      : >=0.10.0  - required | 0.10.0    installed\n",
      "matplotlib     : >=2.1.2   - required | 2.2.2     installed\n",
      "nibabel        : >=2.1.0   - required | 2.2.1     installed\n",
      "numpy          : >=1.11.0  - required | 1.14.5    installed\n",
      "future         : >=0.16.0  - required | 0.16.0    installed\n",
      "modopt         : >=1.1.4   - required | 1.1.5     installed\n",
      "scipy          : >=1.0.0   - required | 1.1.0     installed\n",
      "astropy        : ==2.0.4   - required | 2.0.4     installed\n",
      "progressbar    : >=3.34.3  - required | 3.37.1    installed\n",
      "\n"
     ]
    }
   ],
   "source": [
    "from pysap.plugins.mri.reconstruct_3D.fourier import NUFFT, NFFT3, FFT3\n",
    "import numpy as np\n",
    "from pysap.plugins.mri.reconstruct_3D.utils import convert_mask_to_locations_3D\n",
    "import matplotlib.pyplot as plt\n",
    "\n",
    "PLATFORM ='gpu'\n",
    "ITER = 10\n",
    "\n",
    "_mask = np.random.randint(2, size=(64,64,64))\n",
    "_samples = convert_mask_to_locations_3D(_mask)\n",
    "_samples_shift = convert_mask_to_locations_3D(np.fft.fftshift(_mask))\n",
    "image = np.load('/volatile/bsarthou/datas/NUFFT/mri_img_2D.npy')\n",
    "image = image[64:128, 64:128]\n",
    "images = np.tile(image, (64,1,1))\n",
    "_kspace = np.random.randn(len(_samples)) + 1j * np.random.randn(len(_samples))\n",
    "\n",
    "def project_on_grid(kspace, mask):\n",
    "    kspace_reshaped = np.zeros(mask.shape, dtype=kspace.dtype)\n",
    "    axis_x, axis_y, axis_z = np.where(mask == 1)\n",
    "    kspace_reshaped[axis_x, axis_y, axis_z] = kspace\n",
    "    return kspace_reshaped\n",
    "\n",
    "_kspace_gridded = project_on_grid(_kspace, np.fft.fftshift(_mask))\n",
    "\n",
    "def test_adjoint(_samples,_samples_shift, _kspace, _kspace_gridded, images, Kd, Jd):\n",
    "    \"\"\" Will test if the operator and the adjoint operator are really correctly related\"\"\"\n",
    "    print('Creating direct op')\n",
    "    fourier_op_dir_nufft = NUFFT(samples=_samples, platform=PLATFORM, shape=images.shape, Kd=Kd, Jd=Jd)\n",
    "    fourier_op_dir_nfft = NFFT3(samples=_samples, shape=images.shape)\n",
    "    fourier_op_dir_fft = FFT3(samples=_samples_shift, shape=images.shape)\n",
    "\n",
    "    print('Creating adj op')\n",
    "\n",
    "    fourier_op_adj_nufft = NUFFT(samples=_samples, platform=PLATFORM, shape=images.shape, Kd=Kd, Jd=Jd)\n",
    "    fourier_op_adj_nfft = NFFT3(samples=_samples, shape=images.shape)\n",
    "    fourier_op_adj_fft = FFT3(samples=_samples_shift, shape=images.shape)\n",
    "    \n",
    "    print('K-space')\n",
    "\n",
    "    kspace_nfft = fourier_op_dir_nfft.op(images)\n",
    "    kspace_nufft = fourier_op_dir_nufft.op(images)\n",
    "    kspace_fft = fourier_op_dir_fft.op(images)\n",
    "    \n",
    "    print('Recons image')\n",
    "    img_nfft = fourier_op_adj_nfft.adj_op(_kspace)\n",
    "    img_nufft = fourier_op_adj_nufft.adj_op(_kspace)\n",
    "    img_fft = fourier_op_adj_fft.adj_op(_kspace_gridded)\n",
    " \n",
    "    print('Dot operation')\n",
    "    rslt_1_nfft = np.dot(kspace_nfft, np.conj(_kspace))\n",
    "    rslt_2_nfft = np.dot(images.flatten(), np.conj(img_nfft.flatten()))\n",
    "    rslt_1_nufft = np.dot(kspace_nufft, np.conj(_kspace))\n",
    "    rslt_2_nufft = np.dot(images.flatten(), np.conj(img_nufft).flatten())\n",
    "    \n",
    "    rslt_1_fft = np.dot(kspace_fft.flatten(), np.conj(_kspace_gridded.flatten()))\n",
    "    rslt_2_fft = np.dot(images.flatten(), np.conj(img_fft.flatten()))\n",
    "    \n",
    "    print(rslt_1_nfft/rslt_2_nfft)\n",
    "    print((rslt_1_nufft/rslt_2_nufft))\n",
    "    print(rslt_1_fft / rslt_2_fft)\n",
    "    \n",
    "    return {'fft': [rslt_1_fft, rslt_2_fft], 'nfft': [rslt_1_nfft, rslt_2_nfft], 'nufft': [rslt_1_nufft, rslt_2_nufft]}"
   ]
  },
  {
   "cell_type": "code",
   "execution_count": 3,
   "metadata": {},
   "outputs": [
    {
     "name": "stdout",
     "output_type": "stream",
     "text": [
      "Creating direct op\n",
      "Creating the NUFFT object...\n"
     ]
    },
    {
     "name": "stderr",
     "output_type": "stream",
     "text": [
      "/home/bs255482/src/pysap2/pysap/pysap/plugins/mri/reconstruct_3D/fourier.py:240: UserWarning: Attemping to use Cuda plateform. Make sure to have  all the dependecies installed\n",
      "  warnings.warn('Attemping to use Cuda plateform. Make sure to '\n"
     ]
    },
    {
     "name": "stdout",
     "output_type": "stream",
     "text": [
      "cuda interface is not available\n",
      "ocl interface is available\n",
      "<module 'reikna.cluda.ocl' from '/home/bs255482/.local/lib/python3.5/site-packages/reikna/cluda/ocl.py'> {0: [0]}\n",
      "try to load ocl interface with:\n",
      "API='ocl',   platform_number= 0 , device_number= 0\n",
      "Creating adj op\n",
      "Creating the NUFFT object...\n",
      "cuda interface is not available\n",
      "ocl interface is available\n",
      "<module 'reikna.cluda.ocl' from '/home/bs255482/.local/lib/python3.5/site-packages/reikna/cluda/ocl.py'> {0: [0]}\n",
      "try to load ocl interface with:\n",
      "API='ocl',   platform_number= 0 , device_number= 0\n",
      "K-space\n"
     ]
    },
    {
     "ename": "AttributeError",
     "evalue": "'NUFFT_hsa' object has no attribute 'thr'",
     "output_type": "error",
     "traceback": [
      "\u001b[0;31m---------------------------------------------------------------------------\u001b[0m",
      "\u001b[0;31mAttributeError\u001b[0m                            Traceback (most recent call last)",
      "\u001b[0;32m<ipython-input-3-03a204a7e8d0>\u001b[0m in \u001b[0;36m<module>\u001b[0;34m()\u001b[0m\n\u001b[1;32m      4\u001b[0m \u001b[0;34m\u001b[0m\u001b[0m\n\u001b[1;32m      5\u001b[0m \u001b[0;32mfor\u001b[0m \u001b[0mJd\u001b[0m \u001b[0;32min\u001b[0m \u001b[0mJJ\u001b[0m\u001b[0;34m:\u001b[0m\u001b[0;34m\u001b[0m\u001b[0m\n\u001b[0;32m----> 6\u001b[0;31m     \u001b[0mres\u001b[0m \u001b[0;34m=\u001b[0m \u001b[0mtest_adjoint\u001b[0m\u001b[0;34m(\u001b[0m\u001b[0m_samples\u001b[0m\u001b[0;34m,\u001b[0m \u001b[0m_samples_shift\u001b[0m\u001b[0;34m,\u001b[0m \u001b[0m_kspace\u001b[0m\u001b[0;34m,\u001b[0m \u001b[0m_kspace_gridded\u001b[0m\u001b[0;34m,\u001b[0m \u001b[0mimages\u001b[0m\u001b[0;34m,\u001b[0m \u001b[0;32mNone\u001b[0m\u001b[0;34m,\u001b[0m \u001b[0mJd\u001b[0m\u001b[0;34m)\u001b[0m\u001b[0;34m\u001b[0m\u001b[0m\n\u001b[0m\u001b[1;32m      7\u001b[0m     \u001b[0mres_fft\u001b[0m\u001b[0;34m.\u001b[0m\u001b[0mappend\u001b[0m\u001b[0;34m(\u001b[0m\u001b[0mres\u001b[0m\u001b[0;34m[\u001b[0m\u001b[0;34m'fft'\u001b[0m\u001b[0;34m]\u001b[0m\u001b[0;34m[\u001b[0m\u001b[0;36m0\u001b[0m\u001b[0;34m]\u001b[0m\u001b[0;34m/\u001b[0m\u001b[0mres\u001b[0m\u001b[0;34m[\u001b[0m\u001b[0;34m'fft'\u001b[0m\u001b[0;34m]\u001b[0m\u001b[0;34m[\u001b[0m\u001b[0;36m1\u001b[0m\u001b[0;34m]\u001b[0m\u001b[0;34m)\u001b[0m\u001b[0;34m\u001b[0m\u001b[0m\n\u001b[1;32m      8\u001b[0m     \u001b[0mres_nfft\u001b[0m\u001b[0;34m.\u001b[0m\u001b[0mappend\u001b[0m\u001b[0;34m(\u001b[0m\u001b[0mres\u001b[0m\u001b[0;34m[\u001b[0m\u001b[0;34m'nfft'\u001b[0m\u001b[0;34m]\u001b[0m\u001b[0;34m[\u001b[0m\u001b[0;36m0\u001b[0m\u001b[0;34m]\u001b[0m\u001b[0;34m/\u001b[0m\u001b[0mres\u001b[0m\u001b[0;34m[\u001b[0m\u001b[0;34m'nfft'\u001b[0m\u001b[0;34m]\u001b[0m\u001b[0;34m[\u001b[0m\u001b[0;36m1\u001b[0m\u001b[0;34m]\u001b[0m\u001b[0;34m)\u001b[0m\u001b[0;34m\u001b[0m\u001b[0m\n",
      "\u001b[0;32m<ipython-input-2-fb5df2af942e>\u001b[0m in \u001b[0;36mtest_adjoint\u001b[0;34m(_samples, _samples_shift, _kspace, _kspace_gridded, images, Kd, Jd)\u001b[0m\n\u001b[1;32m     39\u001b[0m \u001b[0;34m\u001b[0m\u001b[0m\n\u001b[1;32m     40\u001b[0m     \u001b[0mkspace_nfft\u001b[0m \u001b[0;34m=\u001b[0m \u001b[0mfourier_op_dir_nfft\u001b[0m\u001b[0;34m.\u001b[0m\u001b[0mop\u001b[0m\u001b[0;34m(\u001b[0m\u001b[0mimages\u001b[0m\u001b[0;34m)\u001b[0m\u001b[0;34m\u001b[0m\u001b[0m\n\u001b[0;32m---> 41\u001b[0;31m     \u001b[0mkspace_nufft\u001b[0m \u001b[0;34m=\u001b[0m \u001b[0mfourier_op_dir_nufft\u001b[0m\u001b[0;34m.\u001b[0m\u001b[0mop\u001b[0m\u001b[0;34m(\u001b[0m\u001b[0mimages\u001b[0m\u001b[0;34m)\u001b[0m\u001b[0;34m\u001b[0m\u001b[0m\n\u001b[0m\u001b[1;32m     42\u001b[0m     \u001b[0mkspace_fft\u001b[0m \u001b[0;34m=\u001b[0m \u001b[0mfourier_op_dir_fft\u001b[0m\u001b[0;34m.\u001b[0m\u001b[0mop\u001b[0m\u001b[0;34m(\u001b[0m\u001b[0mimages\u001b[0m\u001b[0;34m)\u001b[0m\u001b[0;34m\u001b[0m\u001b[0m\n\u001b[1;32m     43\u001b[0m \u001b[0;34m\u001b[0m\u001b[0m\n",
      "\u001b[0;32m~/src/pysap2/pysap/pysap/plugins/mri/reconstruct_3D/fourier.py\u001b[0m in \u001b[0;36mop\u001b[0;34m(self, img)\u001b[0m\n\u001b[1;32m    267\u001b[0m             \u001b[0mdtype\u001b[0m \u001b[0;34m=\u001b[0m \u001b[0mnp\u001b[0m\u001b[0;34m.\u001b[0m\u001b[0mcomplex64\u001b[0m\u001b[0;34m\u001b[0m\u001b[0m\n\u001b[1;32m    268\u001b[0m             \u001b[0;31m# Send data to the mCPU/GPU platform\u001b[0m\u001b[0;34m\u001b[0m\u001b[0;34m\u001b[0m\u001b[0m\n\u001b[0;32m--> 269\u001b[0;31m             \u001b[0mself\u001b[0m\u001b[0;34m.\u001b[0m\u001b[0mnufftObj\u001b[0m\u001b[0;34m.\u001b[0m\u001b[0mx_Nd\u001b[0m \u001b[0;34m=\u001b[0m \u001b[0mself\u001b[0m\u001b[0;34m.\u001b[0m\u001b[0mnufftObj\u001b[0m\u001b[0;34m.\u001b[0m\u001b[0mthr\u001b[0m\u001b[0;34m.\u001b[0m\u001b[0mto_device\u001b[0m\u001b[0;34m(\u001b[0m\u001b[0mimg\u001b[0m\u001b[0;34m.\u001b[0m\u001b[0mastype\u001b[0m\u001b[0;34m(\u001b[0m\u001b[0mdtype\u001b[0m\u001b[0;34m)\u001b[0m\u001b[0;34m)\u001b[0m\u001b[0;34m\u001b[0m\u001b[0m\n\u001b[0m\u001b[1;32m    270\u001b[0m             \u001b[0mgx\u001b[0m \u001b[0;34m=\u001b[0m \u001b[0mself\u001b[0m\u001b[0;34m.\u001b[0m\u001b[0mnufftObj\u001b[0m\u001b[0;34m.\u001b[0m\u001b[0mthr\u001b[0m\u001b[0;34m.\u001b[0m\u001b[0mcopy_array\u001b[0m\u001b[0;34m(\u001b[0m\u001b[0mself\u001b[0m\u001b[0;34m.\u001b[0m\u001b[0mnufftObj\u001b[0m\u001b[0;34m.\u001b[0m\u001b[0mx_Nd\u001b[0m\u001b[0;34m)\u001b[0m\u001b[0;34m\u001b[0m\u001b[0m\n\u001b[1;32m    271\u001b[0m             \u001b[0;31m# Forward operator of the NUFFT\u001b[0m\u001b[0;34m\u001b[0m\u001b[0;34m\u001b[0m\u001b[0m\n",
      "\u001b[0;31mAttributeError\u001b[0m: 'NUFFT_hsa' object has no attribute 'thr'"
     ]
    }
   ],
   "source": [
    "JJ = [1,2,3]\n",
    "\n",
    "res_fft, res_nfft, res_nufft = [], [], []\n",
    "\n",
    "for Jd in JJ:\n",
    "    res = test_adjoint(_samples, _samples_shift, _kspace, _kspace_gridded, images, None, Jd)\n",
    "    res_fft.append(res['fft'][0]/res['fft'][1])\n",
    "    res_nfft.append(res['nfft'][0]/res['nfft'][1])\n",
    "    res_nufft.append(res['nufft'][0]/res['nufft'][1])\n",
    "\n",
    "plt.figure()\n",
    "plt.plot(np.abs(res_fft), color='r', label='fft')\n",
    "plt.plot(np.abs(res_nfft), color='g', label='nfft')\n",
    "plt.plot(np.abs(res_nufft), color='b', label='nufft')\n",
    "plt.xlabel('Jd')\n",
    "plt.ylabel('rapport')\n",
    "\n",
    "plt.show()"
   ]
  },
  {
   "cell_type": "code",
   "execution_count": 6,
   "metadata": {},
   "outputs": [
    {
     "data": {
      "image/png": "[encoded data removed]",
      "text/plain": [
       "<Figure size 432x288 with 1 Axes>"
      ]
     },
     "metadata": {},
     "output_type": "display_data"
    }
   ],
   "source": [
    "plt.figure()\n",
    "plt.plot(JJ, np.abs(res_fft), color='r', label='fft')\n",
    "plt.plot(JJ, np.abs(res_nfft), color='g', label='nfft')\n",
    "plt.plot(JJ, np.abs(res_nufft), color='b', label='nufft')\n",
    "plt.xlabel('Jd')\n",
    "plt.ylabel('rapport')\n",
    "plt.legend()\n",
    "plt.show()"
   ]
  },
  {
   "cell_type": "code",
   "execution_count": 10,
   "metadata": {},
   "outputs": [
    {
     "name": "stdout",
     "output_type": "stream",
     "text": [
      "Creating direct op\n",
      "Creating the NUFFT object...\n",
      "Creating adj op\n",
      "Creating the NUFFT object...\n",
      "K-space\n",
      "Recons image\n",
      "Dot operation\n",
      "(1.0000000000000415-3.470769953942968e-14j)\n",
      "(1.0000002520689009-3.6955945983894863e-07j)\n",
      "(0.999999999999987+6.051685673616039e-14j)\n",
      "Creating direct op\n",
      "Creating the NUFFT object...\n",
      "Creating adj op\n",
      "Creating the NUFFT object...\n",
      "K-space\n",
      "Recons image\n",
      "Dot operation\n",
      "(1.0000000000000415-3.470769953942968e-14j)\n",
      "(7.99999968821621+2.9013921811155874e-07j)\n",
      "(0.999999999999987+6.051685673616039e-14j)\n",
      "Creating direct op\n",
      "Creating the NUFFT object...\n",
      "Creating adj op\n",
      "Creating the NUFFT object...\n",
      "K-space\n",
      "Recons image\n",
      "Dot operation\n",
      "(1.0000000000000415-3.470769953942968e-14j)\n",
      "(64.00000452533767-7.343796873542175e-06j)\n",
      "(0.999999999999987+6.051685673616039e-14j)\n",
      "Creating direct op\n",
      "Creating the NUFFT object...\n",
      "Creating adj op\n",
      "Creating the NUFFT object...\n",
      "K-space\n",
      "Recons image\n"
     ]
    },
    {
     "ename": "MemoryError",
     "evalue": "",
     "output_type": "error",
     "traceback": [
      "\u001b[0;31m---------------------------------------------------------------------------\u001b[0m",
      "\u001b[0;31mMemoryError\u001b[0m                               Traceback (most recent call last)",
      "\u001b[0;32m<ipython-input-10-609bc95061fe>\u001b[0m in \u001b[0;36m<module>\u001b[0;34m()\u001b[0m\n\u001b[1;32m      4\u001b[0m \u001b[0;34m\u001b[0m\u001b[0m\n\u001b[1;32m      5\u001b[0m \u001b[0;32mfor\u001b[0m \u001b[0mKd\u001b[0m \u001b[0;32min\u001b[0m \u001b[0mKK\u001b[0m\u001b[0;34m:\u001b[0m\u001b[0;34m\u001b[0m\u001b[0m\n\u001b[0;32m----> 6\u001b[0;31m     \u001b[0mres\u001b[0m \u001b[0;34m=\u001b[0m \u001b[0mtest_adjoint\u001b[0m\u001b[0;34m(\u001b[0m\u001b[0m_samples\u001b[0m\u001b[0;34m,\u001b[0m \u001b[0m_samples_shift\u001b[0m\u001b[0;34m,\u001b[0m \u001b[0m_kspace\u001b[0m\u001b[0;34m,\u001b[0m \u001b[0m_kspace_gridded\u001b[0m\u001b[0;34m,\u001b[0m \u001b[0mimages\u001b[0m\u001b[0;34m,\u001b[0m \u001b[0mKd\u001b[0m\u001b[0;34m,\u001b[0m \u001b[0mJd\u001b[0m\u001b[0;34m=\u001b[0m\u001b[0;36m2\u001b[0m\u001b[0;34m)\u001b[0m\u001b[0;34m\u001b[0m\u001b[0m\n\u001b[0m\u001b[1;32m      7\u001b[0m     \u001b[0mres_fft_kernel\u001b[0m\u001b[0;34m.\u001b[0m\u001b[0mappend\u001b[0m\u001b[0;34m(\u001b[0m\u001b[0mres\u001b[0m\u001b[0;34m[\u001b[0m\u001b[0;34m'fft'\u001b[0m\u001b[0;34m]\u001b[0m\u001b[0;34m[\u001b[0m\u001b[0;36m0\u001b[0m\u001b[0;34m]\u001b[0m\u001b[0;34m/\u001b[0m\u001b[0mres\u001b[0m\u001b[0;34m[\u001b[0m\u001b[0;34m'fft'\u001b[0m\u001b[0;34m]\u001b[0m\u001b[0;34m[\u001b[0m\u001b[0;36m1\u001b[0m\u001b[0;34m]\u001b[0m\u001b[0;34m)\u001b[0m\u001b[0;34m\u001b[0m\u001b[0m\n\u001b[1;32m      8\u001b[0m     \u001b[0mres_nfft_kernel\u001b[0m\u001b[0;34m.\u001b[0m\u001b[0mappend\u001b[0m\u001b[0;34m(\u001b[0m\u001b[0mres\u001b[0m\u001b[0;34m[\u001b[0m\u001b[0;34m'nfft'\u001b[0m\u001b[0;34m]\u001b[0m\u001b[0;34m[\u001b[0m\u001b[0;36m0\u001b[0m\u001b[0;34m]\u001b[0m\u001b[0;34m/\u001b[0m\u001b[0mres\u001b[0m\u001b[0;34m[\u001b[0m\u001b[0;34m'nfft'\u001b[0m\u001b[0;34m]\u001b[0m\u001b[0;34m[\u001b[0m\u001b[0;36m1\u001b[0m\u001b[0;34m]\u001b[0m\u001b[0;34m)\u001b[0m\u001b[0;34m\u001b[0m\u001b[0m\n",
      "\u001b[0;32m<ipython-input-4-e6deaaddab52>\u001b[0m in \u001b[0;36mtest_adjoint\u001b[0;34m(_samples, _samples_shift, _kspace, _kspace_gridded, images, Kd, Jd)\u001b[0m\n\u001b[1;32m     44\u001b[0m     \u001b[0mprint\u001b[0m\u001b[0;34m(\u001b[0m\u001b[0;34m'Recons image'\u001b[0m\u001b[0;34m)\u001b[0m\u001b[0;34m\u001b[0m\u001b[0m\n\u001b[1;32m     45\u001b[0m     \u001b[0mimg_nfft\u001b[0m \u001b[0;34m=\u001b[0m \u001b[0mfourier_op_adj_nfft\u001b[0m\u001b[0;34m.\u001b[0m\u001b[0madj_op\u001b[0m\u001b[0;34m(\u001b[0m\u001b[0m_kspace\u001b[0m\u001b[0;34m)\u001b[0m\u001b[0;34m\u001b[0m\u001b[0m\n\u001b[0;32m---> 46\u001b[0;31m     \u001b[0mimg_nufft\u001b[0m \u001b[0;34m=\u001b[0m \u001b[0mfourier_op_adj_nufft\u001b[0m\u001b[0;34m.\u001b[0m\u001b[0madj_op\u001b[0m\u001b[0;34m(\u001b[0m\u001b[0m_kspace\u001b[0m\u001b[0;34m)\u001b[0m\u001b[0;34m\u001b[0m\u001b[0m\n\u001b[0m\u001b[1;32m     47\u001b[0m     \u001b[0mimg_fft\u001b[0m \u001b[0;34m=\u001b[0m \u001b[0mfourier_op_adj_fft\u001b[0m\u001b[0;34m.\u001b[0m\u001b[0madj_op\u001b[0m\u001b[0;34m(\u001b[0m\u001b[0m_kspace_gridded\u001b[0m\u001b[0;34m)\u001b[0m\u001b[0;34m\u001b[0m\u001b[0m\n\u001b[1;32m     48\u001b[0m \u001b[0;34m\u001b[0m\u001b[0m\n",
      "\u001b[0;32m~/src/pysap2/pysap/pysap/plugins/mri/reconstruct_3D/fourier.py\u001b[0m in \u001b[0;36madj_op\u001b[0;34m(self, x)\u001b[0m\n\u001b[1;32m    290\u001b[0m         \"\"\"\n\u001b[1;32m    291\u001b[0m         \u001b[0;32mif\u001b[0m \u001b[0mself\u001b[0m\u001b[0;34m.\u001b[0m\u001b[0mplatform\u001b[0m \u001b[0;34m==\u001b[0m \u001b[0;34m'cpu'\u001b[0m\u001b[0;34m:\u001b[0m\u001b[0;34m\u001b[0m\u001b[0m\n\u001b[0;32m--> 292\u001b[0;31m             \u001b[0mimg\u001b[0m \u001b[0;34m=\u001b[0m \u001b[0mself\u001b[0m\u001b[0;34m.\u001b[0m\u001b[0mnufftObj\u001b[0m\u001b[0;34m.\u001b[0m\u001b[0madjoint\u001b[0m\u001b[0;34m(\u001b[0m\u001b[0mx\u001b[0m\u001b[0;34m)\u001b[0m\u001b[0;34m\u001b[0m\u001b[0m\n\u001b[0m\u001b[1;32m    293\u001b[0m         \u001b[0;32melse\u001b[0m\u001b[0;34m:\u001b[0m\u001b[0;34m\u001b[0m\u001b[0m\n\u001b[1;32m    294\u001b[0m             \u001b[0mcuda_array\u001b[0m \u001b[0;34m=\u001b[0m \u001b[0mself\u001b[0m\u001b[0;34m.\u001b[0m\u001b[0mnufftObj\u001b[0m\u001b[0;34m.\u001b[0m\u001b[0mthr\u001b[0m\u001b[0;34m.\u001b[0m\u001b[0mto_device\u001b[0m\u001b[0;34m(\u001b[0m\u001b[0mx\u001b[0m\u001b[0;34m)\u001b[0m\u001b[0;34m\u001b[0m\u001b[0m\n",
      "\u001b[0;32m~/.local/lib/python3.5/site-packages/pynufft/nufft.py\u001b[0m in \u001b[0;36madjoint\u001b[0;34m(self, y)\u001b[0m\n\u001b[1;32m    186\u001b[0m         \u001b[0;34m:\u001b[0m\u001b[0mrtype\u001b[0m\u001b[0;34m:\u001b[0m \u001b[0mnumpy\u001b[0m \u001b[0marray\u001b[0m \u001b[0;32mwith\u001b[0m \u001b[0mdtype\u001b[0m \u001b[0;34m=\u001b[0m\u001b[0mnumpy\u001b[0m\u001b[0;34m.\u001b[0m\u001b[0mcomplex64\u001b[0m\u001b[0;34m\u001b[0m\u001b[0m\n\u001b[1;32m    187\u001b[0m         \"\"\"     \n\u001b[0;32m--> 188\u001b[0;31m         \u001b[0mx\u001b[0m \u001b[0;34m=\u001b[0m \u001b[0mself\u001b[0m\u001b[0;34m.\u001b[0m\u001b[0mxx2x\u001b[0m\u001b[0;34m(\u001b[0m\u001b[0mself\u001b[0m\u001b[0;34m.\u001b[0m\u001b[0mk2xx\u001b[0m\u001b[0;34m(\u001b[0m\u001b[0mself\u001b[0m\u001b[0;34m.\u001b[0m\u001b[0my2k\u001b[0m\u001b[0;34m(\u001b[0m\u001b[0my\u001b[0m\u001b[0;34m)\u001b[0m\u001b[0;34m)\u001b[0m\u001b[0;34m)\u001b[0m\u001b[0;34m\u001b[0m\u001b[0m\n\u001b[0m\u001b[1;32m    189\u001b[0m \u001b[0;34m\u001b[0m\u001b[0m\n\u001b[1;32m    190\u001b[0m         \u001b[0;32mreturn\u001b[0m \u001b[0mx\u001b[0m\u001b[0;34m\u001b[0m\u001b[0m\n",
      "\u001b[0;32m~/.local/lib/python3.5/site-packages/pynufft/nufft.py\u001b[0m in \u001b[0;36mk2xx\u001b[0;34m(self, k)\u001b[0m\n\u001b[1;32m    284\u001b[0m \u001b[0;31m#         dd = numpy.size(self.Kd)\u001b[0m\u001b[0;34m\u001b[0m\u001b[0;34m\u001b[0m\u001b[0m\n\u001b[1;32m    285\u001b[0m \u001b[0;34m\u001b[0m\u001b[0m\n\u001b[0;32m--> 286\u001b[0;31m         \u001b[0mk\u001b[0m \u001b[0;34m=\u001b[0m \u001b[0mnumpy\u001b[0m\u001b[0;34m.\u001b[0m\u001b[0mfft\u001b[0m\u001b[0;34m.\u001b[0m\u001b[0mifftn\u001b[0m\u001b[0;34m(\u001b[0m\u001b[0mk\u001b[0m\u001b[0;34m,\u001b[0m \u001b[0mself\u001b[0m\u001b[0;34m.\u001b[0m\u001b[0mKd\u001b[0m\u001b[0;34m,\u001b[0m \u001b[0mrange\u001b[0m\u001b[0;34m(\u001b[0m\u001b[0;36m0\u001b[0m\u001b[0;34m,\u001b[0m \u001b[0mself\u001b[0m\u001b[0;34m.\u001b[0m\u001b[0mndims\u001b[0m\u001b[0;34m)\u001b[0m\u001b[0;34m)\u001b[0m\u001b[0;34m\u001b[0m\u001b[0m\n\u001b[0m\u001b[1;32m    287\u001b[0m         \u001b[0mxx\u001b[0m\u001b[0;34m=\u001b[0m \u001b[0mnumpy\u001b[0m\u001b[0;34m.\u001b[0m\u001b[0mzeros\u001b[0m\u001b[0;34m(\u001b[0m\u001b[0mself\u001b[0m\u001b[0;34m.\u001b[0m\u001b[0mNd\u001b[0m\u001b[0;34m,\u001b[0m\u001b[0mdtype\u001b[0m\u001b[0;34m=\u001b[0m\u001b[0mself\u001b[0m\u001b[0;34m.\u001b[0m\u001b[0mdtype\u001b[0m\u001b[0;34m,\u001b[0m \u001b[0morder\u001b[0m\u001b[0;34m=\u001b[0m\u001b[0;34m'C'\u001b[0m\u001b[0;34m)\u001b[0m\u001b[0;34m\u001b[0m\u001b[0m\n\u001b[1;32m    288\u001b[0m         \u001b[0mxx\u001b[0m\u001b[0;34m.\u001b[0m\u001b[0mflat\u001b[0m\u001b[0;34m[\u001b[0m\u001b[0mself\u001b[0m\u001b[0;34m.\u001b[0m\u001b[0mNdCPUorder\u001b[0m\u001b[0;34m]\u001b[0m\u001b[0;34m=\u001b[0m\u001b[0mk\u001b[0m\u001b[0;34m.\u001b[0m\u001b[0mflat\u001b[0m\u001b[0;34m[\u001b[0m\u001b[0mself\u001b[0m\u001b[0;34m.\u001b[0m\u001b[0mKdCPUorder\u001b[0m\u001b[0;34m]\u001b[0m\u001b[0;34m\u001b[0m\u001b[0m\n",
      "\u001b[0;32m~/.local/lib/python3.5/site-packages/numpy/fft/fftpack.py\u001b[0m in \u001b[0;36mifftn\u001b[0;34m(a, s, axes, norm)\u001b[0m\n\u001b[1;32m    831\u001b[0m     \"\"\"\n\u001b[1;32m    832\u001b[0m \u001b[0;34m\u001b[0m\u001b[0m\n\u001b[0;32m--> 833\u001b[0;31m     \u001b[0;32mreturn\u001b[0m \u001b[0m_raw_fftnd\u001b[0m\u001b[0;34m(\u001b[0m\u001b[0ma\u001b[0m\u001b[0;34m,\u001b[0m \u001b[0ms\u001b[0m\u001b[0;34m,\u001b[0m \u001b[0maxes\u001b[0m\u001b[0;34m,\u001b[0m \u001b[0mifft\u001b[0m\u001b[0;34m,\u001b[0m \u001b[0mnorm\u001b[0m\u001b[0;34m)\u001b[0m\u001b[0;34m\u001b[0m\u001b[0m\n\u001b[0m\u001b[1;32m    834\u001b[0m \u001b[0;34m\u001b[0m\u001b[0m\n\u001b[1;32m    835\u001b[0m \u001b[0;34m\u001b[0m\u001b[0m\n",
      "\u001b[0;32m~/.local/lib/python3.5/site-packages/numpy/fft/fftpack.py\u001b[0m in \u001b[0;36m_raw_fftnd\u001b[0;34m(a, s, axes, function, norm)\u001b[0m\n\u001b[1;32m    636\u001b[0m     \u001b[0mitl\u001b[0m\u001b[0;34m.\u001b[0m\u001b[0mreverse\u001b[0m\u001b[0;34m(\u001b[0m\u001b[0;34m)\u001b[0m\u001b[0;34m\u001b[0m\u001b[0m\n\u001b[1;32m    637\u001b[0m     \u001b[0;32mfor\u001b[0m \u001b[0mii\u001b[0m \u001b[0;32min\u001b[0m \u001b[0mitl\u001b[0m\u001b[0;34m:\u001b[0m\u001b[0;34m\u001b[0m\u001b[0m\n\u001b[0;32m--> 638\u001b[0;31m         \u001b[0ma\u001b[0m \u001b[0;34m=\u001b[0m \u001b[0mfunction\u001b[0m\u001b[0;34m(\u001b[0m\u001b[0ma\u001b[0m\u001b[0;34m,\u001b[0m \u001b[0mn\u001b[0m\u001b[0;34m=\u001b[0m\u001b[0ms\u001b[0m\u001b[0;34m[\u001b[0m\u001b[0mii\u001b[0m\u001b[0;34m]\u001b[0m\u001b[0;34m,\u001b[0m \u001b[0maxis\u001b[0m\u001b[0;34m=\u001b[0m\u001b[0maxes\u001b[0m\u001b[0;34m[\u001b[0m\u001b[0mii\u001b[0m\u001b[0;34m]\u001b[0m\u001b[0;34m,\u001b[0m \u001b[0mnorm\u001b[0m\u001b[0;34m=\u001b[0m\u001b[0mnorm\u001b[0m\u001b[0;34m)\u001b[0m\u001b[0;34m\u001b[0m\u001b[0m\n\u001b[0m\u001b[1;32m    639\u001b[0m     \u001b[0;32mreturn\u001b[0m \u001b[0ma\u001b[0m\u001b[0;34m\u001b[0m\u001b[0m\n\u001b[1;32m    640\u001b[0m \u001b[0;34m\u001b[0m\u001b[0m\n",
      "\u001b[0;32m~/.local/lib/python3.5/site-packages/numpy/fft/fftpack.py\u001b[0m in \u001b[0;36mifft\u001b[0;34m(a, n, axis, norm)\u001b[0m\n\u001b[1;32m    285\u001b[0m         \u001b[0mn\u001b[0m \u001b[0;34m=\u001b[0m \u001b[0ma\u001b[0m\u001b[0;34m.\u001b[0m\u001b[0mshape\u001b[0m\u001b[0;34m[\u001b[0m\u001b[0maxis\u001b[0m\u001b[0;34m]\u001b[0m\u001b[0;34m\u001b[0m\u001b[0m\n\u001b[1;32m    286\u001b[0m     \u001b[0munitary\u001b[0m \u001b[0;34m=\u001b[0m \u001b[0m_unitary\u001b[0m\u001b[0;34m(\u001b[0m\u001b[0mnorm\u001b[0m\u001b[0;34m)\u001b[0m\u001b[0;34m\u001b[0m\u001b[0m\n\u001b[0;32m--> 287\u001b[0;31m     \u001b[0moutput\u001b[0m \u001b[0;34m=\u001b[0m \u001b[0m_raw_fft\u001b[0m\u001b[0;34m(\u001b[0m\u001b[0ma\u001b[0m\u001b[0;34m,\u001b[0m \u001b[0mn\u001b[0m\u001b[0;34m,\u001b[0m \u001b[0maxis\u001b[0m\u001b[0;34m,\u001b[0m \u001b[0mfftpack\u001b[0m\u001b[0;34m.\u001b[0m\u001b[0mcffti\u001b[0m\u001b[0;34m,\u001b[0m \u001b[0mfftpack\u001b[0m\u001b[0;34m.\u001b[0m\u001b[0mcfftb\u001b[0m\u001b[0;34m,\u001b[0m \u001b[0m_fft_cache\u001b[0m\u001b[0;34m)\u001b[0m\u001b[0;34m\u001b[0m\u001b[0m\n\u001b[0m\u001b[1;32m    288\u001b[0m     \u001b[0;32mreturn\u001b[0m \u001b[0moutput\u001b[0m \u001b[0;34m*\u001b[0m \u001b[0;34m(\u001b[0m\u001b[0;36m1\u001b[0m \u001b[0;34m/\u001b[0m \u001b[0;34m(\u001b[0m\u001b[0msqrt\u001b[0m\u001b[0;34m(\u001b[0m\u001b[0mn\u001b[0m\u001b[0;34m)\u001b[0m \u001b[0;32mif\u001b[0m \u001b[0munitary\u001b[0m \u001b[0;32melse\u001b[0m \u001b[0mn\u001b[0m\u001b[0;34m)\u001b[0m\u001b[0;34m)\u001b[0m\u001b[0;34m\u001b[0m\u001b[0m\n\u001b[1;32m    289\u001b[0m \u001b[0;34m\u001b[0m\u001b[0m\n",
      "\u001b[0;32m~/.local/lib/python3.5/site-packages/numpy/fft/fftpack.py\u001b[0m in \u001b[0;36m_raw_fft\u001b[0;34m(a, n, axis, init_function, work_function, fft_cache)\u001b[0m\n\u001b[1;32m     81\u001b[0m     \u001b[0;32mif\u001b[0m \u001b[0maxis\u001b[0m \u001b[0;34m!=\u001b[0m \u001b[0;34m-\u001b[0m\u001b[0;36m1\u001b[0m\u001b[0;34m:\u001b[0m\u001b[0;34m\u001b[0m\u001b[0m\n\u001b[1;32m     82\u001b[0m         \u001b[0ma\u001b[0m \u001b[0;34m=\u001b[0m \u001b[0mswapaxes\u001b[0m\u001b[0;34m(\u001b[0m\u001b[0ma\u001b[0m\u001b[0;34m,\u001b[0m \u001b[0maxis\u001b[0m\u001b[0;34m,\u001b[0m \u001b[0;34m-\u001b[0m\u001b[0;36m1\u001b[0m\u001b[0;34m)\u001b[0m\u001b[0;34m\u001b[0m\u001b[0m\n\u001b[0;32m---> 83\u001b[0;31m     \u001b[0mr\u001b[0m \u001b[0;34m=\u001b[0m \u001b[0mwork_function\u001b[0m\u001b[0;34m(\u001b[0m\u001b[0ma\u001b[0m\u001b[0;34m,\u001b[0m \u001b[0mwsave\u001b[0m\u001b[0;34m)\u001b[0m\u001b[0;34m\u001b[0m\u001b[0m\n\u001b[0m\u001b[1;32m     84\u001b[0m     \u001b[0;32mif\u001b[0m \u001b[0maxis\u001b[0m \u001b[0;34m!=\u001b[0m \u001b[0;34m-\u001b[0m\u001b[0;36m1\u001b[0m\u001b[0;34m:\u001b[0m\u001b[0;34m\u001b[0m\u001b[0m\n\u001b[1;32m     85\u001b[0m         \u001b[0mr\u001b[0m \u001b[0;34m=\u001b[0m \u001b[0mswapaxes\u001b[0m\u001b[0;34m(\u001b[0m\u001b[0mr\u001b[0m\u001b[0;34m,\u001b[0m \u001b[0maxis\u001b[0m\u001b[0;34m,\u001b[0m \u001b[0;34m-\u001b[0m\u001b[0;36m1\u001b[0m\u001b[0;34m)\u001b[0m\u001b[0;34m\u001b[0m\u001b[0m\n",
      "\u001b[0;31mMemoryError\u001b[0m: "
     ]
    }
   ],
   "source": [
    "KK = [64, 128, 256, 512]\n",
    "\n",
    "res_fft_kernel, res_nfft_kernel, res_nufft_kernel = [], [], []\n",
    "\n",
    "for Kd in KK:\n",
    "    res = test_adjoint(_samples, _samples_shift, _kspace, _kspace_gridded, images, Kd, Jd=2)\n",
    "    res_fft_kernel.append(res['fft'][0]/res['fft'][1])\n",
    "    res_nfft_kernel.append(res['nfft'][0]/res['nfft'][1])\n",
    "    res_nufft_kernel.append(res['nufft'][0]/res['nufft'][1])"
   ]
  },
  {
   "cell_type": "code",
   "execution_count": 9,
   "metadata": {},
   "outputs": [
    {
     "data": {
      "image/png": "[encoded data removed]",
      "text/plain": [
       "<Figure size 432x288 with 1 Axes>"
      ]
     },
     "metadata": {},
     "output_type": "display_data"
    }
   ],
   "source": [
    "plt.figure()\n",
    "plt.plot(KK, np.abs(res_fft_kernel), color='r', label='fft')\n",
    "plt.plot(KK, np.abs(res_nfft_kernel), color='g', label='nfft')\n",
    "plt.plot(KK, np.abs(res_nufft_kernel), color='b', label='nufft')\n",
    "plt.xlabel('Kd')\n",
    "plt.ylabel('rapport')\n",
    "plt.legend()\n",
    "plt.show()"
   ]
  }
 ],
 "metadata": {
  "kernelspec": {
   "display_name": "Python 3",
   "language": "python",
   "name": "python3"
  },
  "language_info": {
   "codemirror_mode": {
    "name": "ipython",
    "version": 3
   },
   "file_extension": ".py",
   "mimetype": "text/x-python",
   "name": "python",
   "nbconvert_exporter": "python",
   "pygments_lexer": "ipython3",
   "version": "3.5.2"
  }
 },
 "nbformat": 4,
 "nbformat_minor": 2
}
